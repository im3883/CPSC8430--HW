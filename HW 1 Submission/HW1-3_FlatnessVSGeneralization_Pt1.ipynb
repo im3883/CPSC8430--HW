{
 "cells": [
  {
   "cell_type": "code",
   "execution_count": 1,
   "id": "7e180e00-67aa-4a5c-82b5-4d12a8e8e972",
   "metadata": {},
   "outputs": [],
   "source": [
    "import torch\n",
    "import torch.nn as nn\n",
    "import torch.nn.functional as F\n",
    "import torchvision\n",
    "import torchvision.transforms as transforms\n",
    "import matplotlib.pyplot as plt\n",
    "import numpy as np\n",
    "import copy\n",
    "from torch.nn.utils import parameters_to_vector, vector_to_parameters\n",
    "from torch.autograd import Variable\n",
    "import tqdm as notebook_tqdm"
   ]
  },
  {
   "cell_type": "code",
   "execution_count": 2,
   "id": "29d6e51b-e95c-4f95-b019-58021b6e81d9",
   "metadata": {},
   "outputs": [
    {
     "name": "stdout",
     "output_type": "stream",
     "text": [
      "test data size is:  60000 \n",
      "Train Data size is:  10000\n"
     ]
    }
   ],
   "source": [
    "train_data = torchvision.datasets.MNIST(root = \"./data\", #preprocess the MNIST dataset\n",
    "                                       train = True,\n",
    "                                       download = True,\n",
    "                                       transform = transforms.ToTensor()\n",
    "                                      )\n",
    "\n",
    "test_data = torchvision.datasets.MNIST(root = \"./data\",\n",
    "                                      train = False,\n",
    "                                      transform = transforms.ToTensor()\n",
    "                                     )\n",
    "print(\"test data size is: \", len(train_data), \"\\nTrain Data size is: \",len(test_data))"
   ]
  },
  {
   "cell_type": "code",
   "execution_count": 3,
   "id": "25eec9bd-9513-4cb3-aa72-d2c3641f24f7",
   "metadata": {},
   "outputs": [],
   "source": [
    "def train_loader(batch_size):\n",
    "    train_loader = torch.utils.data.DataLoader(dataset=train_data, \n",
    "                                           batch_size = batch_size, \n",
    "                                           shuffle=True)\n",
    "    return train_loader\n",
    "\n",
    "\n",
    "def test_loader(batch_size):\n",
    "    test_loader = torch.utils.data.DataLoader(dataset=test_data, \n",
    "                                          batch_size=batch_size, \n",
    "                                          shuffle=False)\n",
    "    return test_loader"
   ]
  },
  {
   "cell_type": "code",
   "execution_count": 4,
   "id": "397bfad7-afc5-495b-b8c0-19da381c2a70",
   "metadata": {},
   "outputs": [],
   "source": [
    "class M1(nn.Module):\n",
    "  def __init__(self,):\n",
    "        super(M1, self).__init__()\n",
    "        self.fc1 = nn.Linear(784, 500)\n",
    "        self.fc2 = nn.Linear(500, 10)\n",
    "        \n",
    "  def forward(self, x):\n",
    "        # flatten as one dimension\n",
    "        x = x.reshape(x.shape[0], -1)\n",
    "        x = F.relu(self.fc1(x))\n",
    "        x = self.fc2(x)\n",
    "        return x"
   ]
  },
  {
   "cell_type": "code",
   "execution_count": 5,
   "id": "bb4dad30-c2ca-4fe7-bc68-106153b2cc7f",
   "metadata": {},
   "outputs": [],
   "source": [
    "def trainFunc(model,num_epochs,train_batch_size,status):\n",
    "    model.train()\n",
    "    print('started')\n",
    "    train_load = train_loader(train_batch_size)\n",
    "    n_total_steps = len(train_load)\n",
    "    train_losses = []\n",
    "    train_epoch = []\n",
    "    train_acc = []\n",
    "    not_converged =True\n",
    "    epoch = 0\n",
    "    trainAvgLossArr = []\n",
    "    trainAvgAccArr = []\n",
    "\n",
    "    while not_converged:\n",
    "        epoch += 1\n",
    "        n_correct = 0\n",
    "        n_samples = 0\n",
    "        lossSum =0\n",
    "        totalacc =0\n",
    "\n",
    "        for i, (images, labels) in enumerate(train_load):  \n",
    "            \n",
    "            images, labels = Variable(images),Variable(labels)\n",
    "            # zero the parameter gradients\n",
    "            optimizer.zero_grad()\n",
    "            # Forward pass\n",
    "            prediction = model(images)\n",
    "            loss = loss_func(prediction, labels)\n",
    "            lossSum += loss.detach().numpy()\n",
    "            # Backward and optimize\n",
    "            loss.backward()\n",
    "            \n",
    "            optimizer.step()\n",
    "\n",
    "            _, predicted = torch.max(prediction.data, 1)\n",
    "            n_samples += labels.size(0)\n",
    "            n_correct += (predicted == labels).sum().item()\n",
    "            acc = 100.0 * n_correct / n_samples\n",
    "            totalacc += acc\n",
    "\n",
    "            train_losses.append(loss.item())\n",
    "            train_acc.append(acc)\n",
    "            train_epoch.append(epoch)\n",
    "\n",
    "            if (i+1) % status == 0:\n",
    "                print (f'Train O/P: Epoch [{epoch}/{num_epochs}], Step [{i+1}/{n_total_steps}], Loss: {loss.item():.4f}',end= '\\r',flush = True)\n",
    "   \n",
    "                if epoch == num_epochs:\n",
    "                        print(\"Max Epoch Reached\")\n",
    "                        not_converged = False\n",
    "                elif (epoch > 5) and  (train_losses[-1] < 0.001):\n",
    "                    if abs(train_losses[-3] - train_losses[-2]) < 1.0e-05 and abs(train_losses[-2] - train_losses[-1]) < 1.0e-05:\n",
    "                        print(\"Convergeance reached for loss:\",train_losses[-1])\n",
    "                        not_converged = False\n",
    "\n",
    "       \n",
    "        epochAcc = totalacc/(i+1)\n",
    "        trainAvgLossArr.append(lossSum/n_total_steps)    \n",
    "        trainAvgAccArr.append(epochAcc)\n",
    "\n",
    "    return train_epoch,train_losses,train_acc,trainAvgLossArr,trainAvgAccArr"
   ]
  },
  {
   "cell_type": "code",
   "execution_count": 6,
   "id": "5d3c813c-b334-4507-9a70-c0a1d893a498",
   "metadata": {},
   "outputs": [],
   "source": [
    "def testFunction(model,loss_func,testLoader,test_batch_size): \n",
    "    test_loader = testLoader\n",
    "    test_load = test_loader(test_batch_size)\n",
    "    model.eval()\n",
    "    with torch.no_grad():\n",
    "        n_correct = 0\n",
    "        n_samples = 0\n",
    "        testLoss = 0\n",
    "        count =0\n",
    "        for images, labels in test_load:\n",
    "            images, labels = Variable(images),Variable(labels)\n",
    "            \n",
    "            prediction = model(images)\n",
    "            testLoss += loss_func(prediction,labels).item()\n",
    "            # max returns (value ,index)\n",
    "            _, predicted = torch.max(prediction.data, 1)\n",
    "            n_samples += labels.size(0)\n",
    "            n_correct += (predicted == labels).sum().item()\n",
    "            count +=1\n",
    "\n",
    "    netTest_loss = testLoss/count\n",
    "    netTest_acc1 = 100.0 * n_correct / n_samples\n",
    "    print(f'Accuracy of the network on the test images: {netTest_acc1} & Test Loss: {netTest_loss} %', end=\"\\r\", flush= True)\n",
    "    return netTest_acc1, netTest_loss"
   ]
  },
  {
   "cell_type": "code",
   "execution_count": 7,
   "id": "7fdcb472-2e0d-48f6-975e-83c51851f799",
   "metadata": {},
   "outputs": [
    {
     "name": "stdout",
     "output_type": "stream",
     "text": [
      "Total no of parameters in Model with batch_size=64 is:397510\n"
     ]
    }
   ],
   "source": [
    "# Training Model with batch size=64\n",
    "torch.manual_seed(1)\n",
    "\n",
    "learning_rate = 0.0015\n",
    "mBatch1 = M1()\n",
    "loss_func = nn.CrossEntropyLoss()\n",
    "weight_decay_val = 1e-4\n",
    "\n",
    "optimizer = torch.optim.Adam(mBatch1.parameters(), lr=learning_rate, weight_decay = weight_decay_val)\n",
    "\n",
    "\n",
    "a=[]\n",
    "for i in mBatch1.parameters():\n",
    "    a.append(torch.numel(i))\n",
    "print(f'Total no of parameters in Model with batch_size={64} is:{np.sum(a)}')"
   ]
  },
  {
   "cell_type": "code",
   "execution_count": 8,
   "id": "4a105367-774d-43e3-bd20-5695da9ae425",
   "metadata": {},
   "outputs": [
    {
     "name": "stdout",
     "output_type": "stream",
     "text": [
      "started\n",
      "Max Epoch Reached[20/20], Step [500/938], Loss: 0.0119\n"
     ]
    }
   ],
   "source": [
    "max_epochs = 20\n",
    "train_batch_size = 64\n",
    "status = 500\n",
    "B1_train_epoch,B1_train_losses,B1_train_acc,B1trainAvgLossArr,B1trainAvgAccArr  = trainFunc(mBatch1,max_epochs,train_batch_size,status)"
   ]
  },
  {
   "cell_type": "code",
   "execution_count": 9,
   "id": "3aa8b1fc-a1c3-4b68-8321-fec15c38a339",
   "metadata": {},
   "outputs": [
    {
     "name": "stdout",
     "output_type": "stream",
     "text": [
      "Total no of parameters in Model with batch_size=1024 is:397510\n"
     ]
    }
   ],
   "source": [
    "# Training Model with batch size=1024\n",
    "torch.manual_seed(1)\n",
    "\n",
    "learning_rate = 0.0015\n",
    "mBatch2 = M1()\n",
    "loss_func = nn.CrossEntropyLoss()\n",
    "weight_decay_val = 1e-4\n",
    "optimizer = torch.optim.Adam(mBatch2.parameters(), lr=learning_rate, weight_decay=weight_decay_val) \n",
    "\n",
    "\n",
    "a=[]\n",
    "for i in mBatch2.parameters():\n",
    "    a.append(torch.numel(i))\n",
    "print(f'Total no of parameters in Model with batch_size={1024} is:{np.sum(a)}')"
   ]
  },
  {
   "cell_type": "code",
   "execution_count": 10,
   "id": "8418a110-a925-49d6-8872-fb8b5848414c",
   "metadata": {},
   "outputs": [
    {
     "name": "stdout",
     "output_type": "stream",
     "text": [
      "started\n",
      "Max Epoch Reached[20/20], Step [10/59], Loss: 0.0221\n",
      "Max Epoch Reached[20/20], Step [20/59], Loss: 0.0228\n",
      "Max Epoch Reached[20/20], Step [30/59], Loss: 0.0306\n",
      "Max Epoch Reached[20/20], Step [40/59], Loss: 0.0224\n",
      "Max Epoch Reached[20/20], Step [50/59], Loss: 0.0280\n"
     ]
    }
   ],
   "source": [
    "max_epochs = 20\n",
    "train_batch_size = 1024\n",
    "status = 10\n",
    "B2_train_epoch,B2_train_losses,B2_train_acc,B2trainAvgLossArr,B2trainAvgAccArr = trainFunc(mBatch2,max_epochs,train_batch_size,status)"
   ]
  },
  {
   "cell_type": "code",
   "execution_count": 11,
   "id": "4cf53feb-6ce1-4b9f-b633-a815ab1f969c",
   "metadata": {},
   "outputs": [],
   "source": [
    "epochArr = np.array(np.linspace(1,max_epochs,max_epochs))"
   ]
  },
  {
   "cell_type": "code",
   "execution_count": 12,
   "id": "37685b39-7dec-45d4-8095-60f41eab98bf",
   "metadata": {},
   "outputs": [
    {
     "data": {
      "image/png": "[encoded data removed]",
      "text/plain": [
       "<Figure size 640x480 with 1 Axes>"
      ]
     },
     "metadata": {},
     "output_type": "display_data"
    }
   ],
   "source": [
    "plt.plot(epochArr,B1trainAvgLossArr,color=\"blue\")\n",
    "plt.plot(epochArr,B2trainAvgLossArr,color=\"orange\")\n",
    "plt.title('Batch1 & Batch2 Loss VS Epoch')\n",
    "plt.legend(['Batch 1=64','Batch 2=1024'])\n",
    "plt.xlabel ('Epoch')\n",
    "plt.ylabel ('loss')\n",
    "plt.show()"
   ]
  },
  {
   "cell_type": "code",
   "execution_count": 13,
   "id": "2701bb0e-b6b9-4b4b-b45b-36e892ee7e06",
   "metadata": {},
   "outputs": [
    {
     "name": "stdout",
     "output_type": "stream",
     "text": [
      "tensor([-1.8260e-37,  5.6023e-38, -7.0213e-38,  ..., -2.3817e-01,\n",
      "         5.0254e-01,  1.1340e-01], grad_fn=<CatBackward0>) \n",
      "len: 397510\n"
     ]
    }
   ],
   "source": [
    "batch1_param = torch.nn.utils.parameters_to_vector(mBatch1.parameters())\n",
    "print(batch1_param,'\\nlen:',len(batch1_param))"
   ]
  },
  {
   "cell_type": "code",
   "execution_count": 14,
   "id": "2d888283-b7d2-482e-9853-a014671fc46a",
   "metadata": {
    "tags": []
   },
   "outputs": [
    {
     "name": "stdout",
     "output_type": "stream",
     "text": [
      "tensor([ 2.3865e-29,  1.3841e-29, -7.5679e-30,  ...,  2.5663e-02,\n",
      "        -1.5619e-02, -2.6613e-02], grad_fn=<CatBackward0>) \n",
      "len: 397510\n"
     ]
    }
   ],
   "source": [
    "batch2_param = torch.nn.utils.parameters_to_vector(mBatch2.parameters())\n",
    "print(batch2_param,'\\nlen:',len(batch2_param))"
   ]
  },
  {
   "cell_type": "code",
   "execution_count": 15,
   "id": "69f8ea11-7c65-45dc-a730-ba1393743b68",
   "metadata": {
    "tags": []
   },
   "outputs": [
    {
     "name": "stdout",
     "output_type": "stream",
     "text": [
      "[-2.         -1.86666667 -1.73333333 -1.6        -1.46666667 -1.33333333\n",
      " -1.2        -1.06666667 -0.93333333 -0.8        -0.66666667 -0.53333333\n",
      " -0.4        -0.26666667 -0.13333333  0.          0.13333333  0.26666667\n",
      "  0.4         0.53333333  0.66666667  0.8         0.93333333  1.06666667\n",
      "  1.2         1.33333333  1.46666667  1.6         1.73333333  1.86666667\n",
      "  2.        ]\n"
     ]
    }
   ],
   "source": [
    "alpha = np.linspace(-2.0, 2.0, num=31)\n",
    "print(alpha)"
   ]
  },
  {
   "cell_type": "code",
   "execution_count": 16,
   "id": "15954cd0-e0ad-4adb-aa33-0467f062026f",
   "metadata": {
    "tags": []
   },
   "outputs": [],
   "source": [
    "thetaArr =[]\n",
    "for i in range (len(alpha)):\n",
    "    theta = (1-alpha[i])*batch1_param + alpha[i]*batch2_param\n",
    "    thetaArr.append(theta)"
   ]
  },
  {
   "cell_type": "code",
   "execution_count": 17,
   "id": "46a662a2-a48d-45ee-96a3-b3fce01d5a8b",
   "metadata": {},
   "outputs": [
    {
     "name": "stdout",
     "output_type": "stream",
     "text": [
      "Total no of parameters in Model Theta 0 is:397510\n",
      "<bound method Module.parameters of M1(\n",
      "  (fc1): Linear(in_features=784, out_features=500, bias=True)\n",
      "  (fc2): Linear(in_features=500, out_features=10, bias=True)\n",
      ")>\n",
      "started\n",
      "Max Epoch Reached[1/1], Step [100/120], Loss: 0.1632\n",
      "Total no of parameters in Model Theta 1 is:397510 & Test Loss: 0.3954723197966814 %\n",
      "<bound method Module.parameters of M1(\n",
      "  (fc1): Linear(in_features=784, out_features=500, bias=True)\n",
      "  (fc2): Linear(in_features=500, out_features=10, bias=True)\n",
      ")>\n",
      "started\n",
      "Max Epoch Reached[1/1], Step [100/120], Loss: 0.0804\n",
      "Total no of parameters in Model Theta 2 is:397510& Test Loss: 0.3404372287914157 %\n",
      "<bound method Module.parameters of M1(\n",
      "  (fc1): Linear(in_features=784, out_features=500, bias=True)\n",
      "  (fc2): Linear(in_features=500, out_features=10, bias=True)\n",
      ")>\n",
      "started\n",
      "Max Epoch Reached[1/1], Step [100/120], Loss: 0.1562\n",
      "Total no of parameters in Model Theta 3 is:397510 & Test Loss: 0.3010186327621341 %\n",
      "<bound method Module.parameters of M1(\n",
      "  (fc1): Linear(in_features=784, out_features=500, bias=True)\n",
      "  (fc2): Linear(in_features=500, out_features=10, bias=True)\n",
      ")>\n",
      "started\n",
      "Max Epoch Reached[1/1], Step [100/120], Loss: 0.0796\n",
      "Total no of parameters in Model Theta 4 is:397510 & Test Loss: 0.2529104324057698 %\n",
      "<bound method Module.parameters of M1(\n",
      "  (fc1): Linear(in_features=784, out_features=500, bias=True)\n",
      "  (fc2): Linear(in_features=500, out_features=10, bias=True)\n",
      ")>\n",
      "started\n",
      "Max Epoch Reached[1/1], Step [100/120], Loss: 0.0924\n",
      "Total no of parameters in Model Theta 5 is:397510 & Test Loss: 0.2217562458012253 %\n",
      "<bound method Module.parameters of M1(\n",
      "  (fc1): Linear(in_features=784, out_features=500, bias=True)\n",
      "  (fc2): Linear(in_features=500, out_features=10, bias=True)\n",
      ")>\n",
      "started\n",
      "Max Epoch Reached[1/1], Step [100/120], Loss: 0.0809\n",
      "Total no of parameters in Model Theta 6 is:397510 & Test Loss: 0.1869872121955268 %\n",
      "<bound method Module.parameters of M1(\n",
      "  (fc1): Linear(in_features=784, out_features=500, bias=True)\n",
      "  (fc2): Linear(in_features=500, out_features=10, bias=True)\n",
      ")>\n",
      "started\n",
      "Max Epoch Reached[1/1], Step [100/120], Loss: 0.0201\n",
      "Total no of parameters in Model Theta 7 is:397510 & Test Loss: 0.15970286128576844 %\n",
      "<bound method Module.parameters of M1(\n",
      "  (fc1): Linear(in_features=784, out_features=500, bias=True)\n",
      "  (fc2): Linear(in_features=500, out_features=10, bias=True)\n",
      ")>\n",
      "started\n",
      "Max Epoch Reached[1/1], Step [100/120], Loss: 0.0281\n",
      "Total no of parameters in Model Theta 8 is:397510 & Test Loss: 0.13444708185852505 %\n",
      "<bound method Module.parameters of M1(\n",
      "  (fc1): Linear(in_features=784, out_features=500, bias=True)\n",
      "  (fc2): Linear(in_features=500, out_features=10, bias=True)\n",
      ")>\n",
      "started\n",
      "Max Epoch Reached[1/1], Step [100/120], Loss: 0.0199\n",
      "Total no of parameters in Model Theta 9 is:397510 & Test Loss: 0.11658159278449602 %\n",
      "<bound method Module.parameters of M1(\n",
      "  (fc1): Linear(in_features=784, out_features=500, bias=True)\n",
      "  (fc2): Linear(in_features=500, out_features=10, bias=True)\n",
      ")>\n",
      "started\n",
      "Max Epoch Reached[1/1], Step [100/120], Loss: 0.0106\n",
      "Total no of parameters in Model Theta 10 is:397510& Test Loss: 0.0975086226084386 %\n",
      "<bound method Module.parameters of M1(\n",
      "  (fc1): Linear(in_features=784, out_features=500, bias=True)\n",
      "  (fc2): Linear(in_features=500, out_features=10, bias=True)\n",
      ")>\n",
      "started\n",
      "Max Epoch Reached[1/1], Step [100/120], Loss: 0.0091\n",
      "Total no of parameters in Model Theta 11 is:397510 Test Loss: 0.08619953853194602 %\n",
      "<bound method Module.parameters of M1(\n",
      "  (fc1): Linear(in_features=784, out_features=500, bias=True)\n",
      "  (fc2): Linear(in_features=500, out_features=10, bias=True)\n",
      ")>\n",
      "started\n",
      "Total no of parameters in Model Theta 16 is:397510& Test Loss: 0.05098291878821328 %\n",
      "<bound method Module.parameters of M1(\n",
      "  (fc1): Linear(in_features=784, out_features=500, bias=True)\n",
      "  (fc2): Linear(in_features=500, out_features=10, bias=True)\n",
      ")>\n",
      "started\n",
      "Max Epoch Reached[1/1], Step [100/120], Loss: 0.0086\n",
      "Total no of parameters in Model Theta 17 is:397510& Test Loss: 0.048951230687089266 %\n",
      "<bound method Module.parameters of M1(\n",
      "  (fc1): Linear(in_features=784, out_features=500, bias=True)\n",
      "  (fc2): Linear(in_features=500, out_features=10, bias=True)\n",
      ")>\n",
      "started\n",
      "Max Epoch Reached[1/1], Step [100/120], Loss: 0.0149\n",
      "Total no of parameters in Model Theta 18 is:397510& Test Loss: 0.05058604853693396 %\n",
      "<bound method Module.parameters of M1(\n",
      "  (fc1): Linear(in_features=784, out_features=500, bias=True)\n",
      "  (fc2): Linear(in_features=500, out_features=10, bias=True)\n",
      ")>\n",
      "started\n",
      "Max Epoch Reached[1/1], Step [100/120], Loss: 0.0227\n",
      "Total no of parameters in Model Theta 19 is:397510& Test Loss: 0.05225507761351764 %\n",
      "<bound method Module.parameters of M1(\n",
      "  (fc1): Linear(in_features=784, out_features=500, bias=True)\n",
      "  (fc2): Linear(in_features=500, out_features=10, bias=True)\n",
      ")>\n",
      "started\n",
      "Max Epoch Reached[1/1], Step [100/120], Loss: 0.0171\n",
      "Total no of parameters in Model Theta 20 is:397510& Test Loss: 0.0546337062958628 %\n",
      "<bound method Module.parameters of M1(\n",
      "  (fc1): Linear(in_features=784, out_features=500, bias=True)\n",
      "  (fc2): Linear(in_features=500, out_features=10, bias=True)\n",
      ")>\n",
      "started\n",
      "Max Epoch Reached[1/1], Step [100/120], Loss: 0.0337\n",
      "Total no of parameters in Model Theta 21 is:397510 Test Loss: 0.056062206346541646 %\n",
      "<bound method Module.parameters of M1(\n",
      "  (fc1): Linear(in_features=784, out_features=500, bias=True)\n",
      "  (fc2): Linear(in_features=500, out_features=10, bias=True)\n",
      ")>\n",
      "started\n",
      "Max Epoch Reached[1/1], Step [100/120], Loss: 0.0143\n",
      "Total no of parameters in Model Theta 22 is:397510& Test Loss: 0.05777527689933777 %\n",
      "<bound method Module.parameters of M1(\n",
      "  (fc1): Linear(in_features=784, out_features=500, bias=True)\n",
      "  (fc2): Linear(in_features=500, out_features=10, bias=True)\n",
      ")>\n",
      "started\n",
      "Max Epoch Reached[1/1], Step [100/120], Loss: 0.0224\n",
      "Total no of parameters in Model Theta 23 is:397510& Test Loss: 0.05770494574680925 %\n",
      "<bound method Module.parameters of M1(\n",
      "  (fc1): Linear(in_features=784, out_features=500, bias=True)\n",
      "  (fc2): Linear(in_features=500, out_features=10, bias=True)\n",
      ")>\n",
      "started\n",
      "Max Epoch Reached[1/1], Step [100/120], Loss: 0.0144\n",
      "Total no of parameters in Model Theta 24 is:397510& Test Loss: 0.05946350158192217 %\n",
      "<bound method Module.parameters of M1(\n",
      "  (fc1): Linear(in_features=784, out_features=500, bias=True)\n",
      "  (fc2): Linear(in_features=500, out_features=10, bias=True)\n",
      ")>\n",
      "started\n",
      "Max Epoch Reached[1/1], Step [100/120], Loss: 0.0124\n",
      "Total no of parameters in Model Theta 25 is:397510& Test Loss: 0.06085183187387884 %\n",
      "<bound method Module.parameters of M1(\n",
      "  (fc1): Linear(in_features=784, out_features=500, bias=True)\n",
      "  (fc2): Linear(in_features=500, out_features=10, bias=True)\n",
      ")>\n",
      "started\n",
      "Max Epoch Reached[1/1], Step [100/120], Loss: 0.0149\n",
      "Total no of parameters in Model Theta 26 is:397510& Test Loss: 0.06362235327251256 %\n",
      "<bound method Module.parameters of M1(\n",
      "  (fc1): Linear(in_features=784, out_features=500, bias=True)\n",
      "  (fc2): Linear(in_features=500, out_features=10, bias=True)\n",
      ")>\n",
      "started\n",
      "Max Epoch Reached[1/1], Step [100/120], Loss: 0.0128\n",
      "Total no of parameters in Model Theta 27 is:397510& Test Loss: 0.07074671755544841 %\n",
      "<bound method Module.parameters of M1(\n",
      "  (fc1): Linear(in_features=784, out_features=500, bias=True)\n",
      "  (fc2): Linear(in_features=500, out_features=10, bias=True)\n",
      ")>\n",
      "started\n",
      "Max Epoch Reached[1/1], Step [100/120], Loss: 0.0244\n",
      "Total no of parameters in Model Theta 28 is:397510& Test Loss: 0.08395138802006841 %\n",
      "<bound method Module.parameters of M1(\n",
      "  (fc1): Linear(in_features=784, out_features=500, bias=True)\n",
      "  (fc2): Linear(in_features=500, out_features=10, bias=True)\n",
      ")>\n",
      "started\n",
      "Max Epoch Reached[1/1], Step [100/120], Loss: 0.0520\n",
      "Total no of parameters in Model Theta 29 is:397510& Test Loss: 0.10373197891749442 %\n",
      "<bound method Module.parameters of M1(\n",
      "  (fc1): Linear(in_features=784, out_features=500, bias=True)\n",
      "  (fc2): Linear(in_features=500, out_features=10, bias=True)\n",
      ")>\n",
      "started\n",
      "Max Epoch Reached[1/1], Step [100/120], Loss: 0.0630\n",
      "Total no of parameters in Model Theta 30 is:397510& Test Loss: 0.12881936011835932 %\n",
      "<bound method Module.parameters of M1(\n",
      "  (fc1): Linear(in_features=784, out_features=500, bias=True)\n",
      "  (fc2): Linear(in_features=500, out_features=10, bias=True)\n",
      ")>\n",
      "started\n",
      "Max Epoch Reached[1/1], Step [100/120], Loss: 0.0795\n",
      "Accuracy of the network on the test images: 96.78 & Test Loss: 0.16545387133955955 %\r"
     ]
    }
   ],
   "source": [
    "modelsTrainEpochArr = []\n",
    "modelsTrainLossArr = []\n",
    "modelsTrainAccArr = []\n",
    "modelsTestLossArr = []\n",
    "modelsTestAccArr = []\n",
    "\n",
    "for i in range (len(thetaArr)):\n",
    "\n",
    "    j=copy.deepcopy(i) \n",
    "    theta = (1-alpha[i])*batch1_param + alpha[i]*batch2_param\n",
    "    j = M1()\n",
    "    torch.nn.utils.vector_to_parameters(theta,j.parameters())\n",
    "    loss_func = nn.CrossEntropyLoss()\n",
    "    optimizer = torch.optim.Adam(j.parameters(), lr=0.0004, weight_decay = 1e-4)\n",
    "    \n",
    "\n",
    "    a=[]\n",
    "    for k in j.parameters():\n",
    "        a.append(torch.numel(k))\n",
    "    print(f'Total no of parameters in Model Theta {i} is:{np.sum(a)}')\n",
    "\n",
    "    print(j.parameters)\n",
    "\n",
    "    max_epochs = 1\n",
    "    train_batch_size = 500\n",
    "    status = 100\n",
    "    T_train_epoch,T_train_losses,T_train_acc,T_trainAvgLossArr,T_trainAvgAccArr = trainFunc(j,max_epochs,train_batch_size,status)\n",
    "    \n",
    "    \n",
    "    epsilon = 1e-10  # Small value to prevent log(0)\n",
    "    modelsTrainLossArr.append(np.log(T_trainAvgLossArr)+epsilon)\n",
    "   \n",
    "    modelsTrainAccArr.append(T_trainAvgAccArr)\n",
    "    \n",
    "    test_batch_size=500\n",
    "    T_acc, T_testLoss = testFunction(j,loss_func,test_loader,test_batch_size)\n",
    "    modelsTestAccArr.append(T_acc)\n",
    "    modelsTestLossArr.append(np.log(T_testLoss)+epsilon)"
   ]
  },
  {
   "cell_type": "code",
   "execution_count": 18,
   "id": "97047aca-64d1-48be-ba80-da106eea9dbc",
   "metadata": {
    "tags": []
   },
   "outputs": [],
   "source": [
    "def meanScore(dataArr):\n",
    "    meanModelData = []\n",
    "    for i in range (len(dataArr)):\n",
    "        meanScore = np.mean(dataArr[i])\n",
    "        meanModelData.append(meanScore)\n",
    "    return meanModelData\n",
    "\n",
    "def minScore(dataArr):\n",
    "    minModelScore = []\n",
    "    for i in range (len(dataArr)):\n",
    "        minScore = np.mean(dataArr[i])\n",
    "        minModelScore.append(minScore)\n",
    "    return minModelScore\n",
    "\n",
    "def maxScore(dataArr):\n",
    "    maxModelScore = []\n",
    "    for i in range (len(dataArr)):\n",
    "        maxScore = np.max(dataArr[i])\n",
    "        maxModelScore.append(maxScore)\n",
    "    return maxModelScore"
   ]
  },
  {
   "cell_type": "code",
   "execution_count": 29,
   "id": "38ec4781-3743-421f-b408-84314edd9d9a",
   "metadata": {},
   "outputs": [
    {
     "data": {
      "image/png": "[encoded data removed]",
      "text/plain": [
       "<Figure size 640x480 with 2 Axes>"
      ]
     },
     "metadata": {},
     "output_type": "display_data"
    }
   ],
   "source": [
    "fig,ax=plt.subplots()\n",
    "ax.plot(alpha,(modelsTrainLossArr),color=\"Blue\",linestyle='dashed', marker=\"o\")\n",
    "ax.plot(alpha,modelsTestLossArr,color=\"Blue\", marker=\"v\")\n",
    "ax.legend(['Train Loss','Test Loss'],loc=\"center left\")\n",
    "ax.set_xlabel(\"Alpha\",color=\"Green\")\n",
    "ax.set_ylabel(\"CrossEntropy Loss in log scale\",color = \"blue\")\n",
    "\n",
    "\n",
    "ax2=ax.twinx()\n",
    "ax2.plot(alpha,(modelsTrainAccArr),color=\"red\",linestyle='dashed', marker=\"o\")\n",
    "ax2.plot(alpha,modelsTestAccArr,color=\"red\", marker=\"v\")\n",
    "ax2.set_xlabel(\"Alpha\",color=\"Green\")\n",
    "ax2.set_ylabel(\"Accuracy\",color = \"red\")\n",
    "ax2.legend(['Train Acc','Test Acc'],loc=\"upper right\")\n",
    "\n",
    "plt.show()"
   ]
  },
  {
   "cell_type": "code",
   "execution_count": 30,
   "id": "e1a5b578-ff92-4fc0-a88e-664633ec3951",
   "metadata": {},
   "outputs": [
    {
     "name": "stdout",
     "output_type": "stream",
     "text": [
      "Total no of parameters in Model with Lr=0.001 is:397510\n"
     ]
    }
   ],
   "source": [
    "# Training Model with batch size=500 and Lr 1e-3\n",
    "torch.manual_seed(1)\n",
    "\n",
    "learning_rate = 1e-3\n",
    "mLr1 = M1()\n",
    "loss_func = nn.CrossEntropyLoss()\n",
    "optimizer = torch.optim.Adam(mLr1.parameters(), lr=learning_rate) \n",
    "\n",
    "a=[]\n",
    "for i in mLr1.parameters():\n",
    "    a.append(torch.numel(i))\n",
    "print(f'Total no of parameters in Model with Lr={learning_rate} is:{np.sum(a)}')"
   ]
  },
  {
   "cell_type": "code",
   "execution_count": 31,
   "id": "73ce45a5-4c70-4f6c-a70f-f59879994f68",
   "metadata": {},
   "outputs": [
    {
     "name": "stdout",
     "output_type": "stream",
     "text": [
      "started\n",
      "Max Epoch Reached[20/20], Step [10/120], Loss: 0.00482\n",
      "Max Epoch Reached[20/20], Step [20/120], Loss: 0.0061\n",
      "Max Epoch Reached[20/20], Step [30/120], Loss: 0.0055\n",
      "Max Epoch Reached[20/20], Step [40/120], Loss: 0.0077\n",
      "Max Epoch Reached[20/20], Step [50/120], Loss: 0.0090\n",
      "Max Epoch Reached[20/20], Step [60/120], Loss: 0.0107\n",
      "Max Epoch Reached[20/20], Step [70/120], Loss: 0.0127\n",
      "Max Epoch Reached[20/20], Step [80/120], Loss: 0.0086\n",
      "Max Epoch Reached[20/20], Step [90/120], Loss: 0.0062\n",
      "Max Epoch Reached[20/20], Step [100/120], Loss: 0.0043\n",
      "Max Epoch Reached[20/20], Step [110/120], Loss: 0.0130\n",
      "Max Epoch Reached[20/20], Step [120/120], Loss: 0.0089\n"
     ]
    }
   ],
   "source": [
    "max_epochs = 20\n",
    "train_batch_size = 500\n",
    "status = 10\n",
    "L1_train_epoch,L1_train_losses,L1_train_acc,L1_trainAvgLossArr,L1_trainAvgAccArr  = trainFunc(mLr1,max_epochs,train_batch_size,status)"
   ]
  },
  {
   "cell_type": "code",
   "execution_count": 32,
   "id": "e0824beb-7784-44df-8ea4-619fbcc19166",
   "metadata": {},
   "outputs": [
    {
     "name": "stdout",
     "output_type": "stream",
     "text": [
      "Total no of parameters in Model with Lr=0.01 is:397510\n"
     ]
    }
   ],
   "source": [
    "# Training Model with batch size=500 and Lr 1e-2\n",
    "torch.manual_seed(1)\n",
    "learning_rate = 1e-2\n",
    "mLr2 = M1()\n",
    "loss_func = nn.CrossEntropyLoss()\n",
    "optimizer = torch.optim.Adam(mLr2.parameters(), lr=learning_rate) \n",
    "\n",
    "a=[]\n",
    "for i in mLr2.parameters():\n",
    "    a.append(torch.numel(i))\n",
    "print(f'Total no of parameters in Model with Lr={learning_rate} is:{np.sum(a)}')"
   ]
  },
  {
   "cell_type": "code",
   "execution_count": 33,
   "id": "f3c16547-402d-4468-8d92-5505be2859d1",
   "metadata": {},
   "outputs": [
    {
     "name": "stdout",
     "output_type": "stream",
     "text": [
      "started\n",
      "Max Epoch Reached[20/20], Step [10/120], Loss: 0.01271\n",
      "Max Epoch Reached[20/20], Step [20/120], Loss: 0.0125\n",
      "Max Epoch Reached[20/20], Step [30/120], Loss: 0.0033\n",
      "Max Epoch Reached[20/20], Step [40/120], Loss: 0.0259\n",
      "Max Epoch Reached[20/20], Step [50/120], Loss: 0.0201\n",
      "Max Epoch Reached[20/20], Step [60/120], Loss: 0.0498\n",
      "Max Epoch Reached[20/20], Step [70/120], Loss: 0.0151\n",
      "Max Epoch Reached[20/20], Step [80/120], Loss: 0.0194\n",
      "Max Epoch Reached[20/20], Step [90/120], Loss: 0.0303\n",
      "Max Epoch Reached[20/20], Step [100/120], Loss: 0.0024\n",
      "Max Epoch Reached[20/20], Step [110/120], Loss: 0.0845\n",
      "Max Epoch Reached[20/20], Step [120/120], Loss: 0.0292\n"
     ]
    }
   ],
   "source": [
    "max_epochs = 20\n",
    "train_batch_size = 500\n",
    "status = 10\n",
    "L2_train_epoch,L2_train_losses,L2_train_acc,L2_trainAvgLossArr,L2_trainAvgAccArr  = trainFunc(mLr2,max_epochs,train_batch_size,status)"
   ]
  },
  {
   "cell_type": "code",
   "execution_count": 34,
   "id": "ec113ef7-a187-44b4-bff3-7d35c4574e65",
   "metadata": {},
   "outputs": [],
   "source": [
    "epochArr = np.array(np.linspace(1,max_epochs,max_epochs))"
   ]
  },
  {
   "cell_type": "code",
   "execution_count": 35,
   "id": "7427959b-4c30-4684-b93e-4ebb4c494e54",
   "metadata": {},
   "outputs": [
    {
     "data": {
      "image/png": "[encoded data removed]",
      "text/plain": [
       "<Figure size 640x480 with 1 Axes>"
      ]
     },
     "metadata": {},
     "output_type": "display_data"
    }
   ],
   "source": [
    "plt.plot(epochArr,L1_trainAvgLossArr,color=\"blue\")\n",
    "plt.plot(epochArr,L2_trainAvgLossArr,color=\"orange\")\n",
    "plt.title('Lr1 & Lr2 Loss VS Epoch',color=\"green\")\n",
    "plt.legend(['LR1:1e-3 1','LR2:1e-2'])\n",
    "plt.xlabel ('Epoch')\n",
    "plt.ylabel ('loss')\n",
    "plt.show()"
   ]
  },
  {
   "cell_type": "code",
   "execution_count": 36,
   "id": "6059ac4d-f283-433c-8c45-f4e362e3c7d2",
   "metadata": {},
   "outputs": [
    {
     "name": "stdout",
     "output_type": "stream",
     "text": [
      "tensor([ 0.0184, -0.0158, -0.0069,  ...,  0.0306, -0.0144, -0.0337],\n",
      "       grad_fn=<CatBackward0>) \n",
      "len: 397510\n"
     ]
    }
   ],
   "source": [
    "Lr1_param = torch.nn.utils.parameters_to_vector(mLr1.parameters())\n",
    "print(Lr1_param,'\\nlen:',len(Lr1_param))"
   ]
  },
  {
   "cell_type": "code",
   "execution_count": 37,
   "id": "04a1f7ea-be83-4ea0-bd38-9046a0024da3",
   "metadata": {},
   "outputs": [
    {
     "name": "stdout",
     "output_type": "stream",
     "text": [
      "tensor([ 0.0184, -0.0158, -0.0069,  ..., -0.2564,  0.5488,  0.0952],\n",
      "       grad_fn=<CatBackward0>) \n",
      "len: 397510\n"
     ]
    }
   ],
   "source": [
    "Lr2_param = torch.nn.utils.parameters_to_vector(mLr2.parameters())\n",
    "print(Lr2_param,'\\nlen:',len(Lr2_param))"
   ]
  },
  {
   "cell_type": "code",
   "execution_count": 40,
   "id": "050745e9-fc94-4df0-9a17-4158cbf8a4ab",
   "metadata": {},
   "outputs": [
    {
     "name": "stdout",
     "output_type": "stream",
     "text": [
      "Total no of parameters in Model Theta 0 is:397510\n",
      "<bound method Module.parameters of M1(\n",
      "  (fc1): Linear(in_features=784, out_features=500, bias=True)\n",
      "  (fc2): Linear(in_features=500, out_features=10, bias=True)\n",
      ")>\n",
      "started\n",
      "Max Epoch Reached[1/1], Step [60/120], Loss: 151.9096\n",
      "Max Epoch Reached[1/1], Step [120/120], Loss: 50.9281\n",
      "Total no of parameters in Model Theta 1 is:397510 & Test Loss: 49.33330936431885 %\n",
      "<bound method Module.parameters of M1(\n",
      "  (fc1): Linear(in_features=784, out_features=500, bias=True)\n",
      "  (fc2): Linear(in_features=500, out_features=10, bias=True)\n",
      ")>\n",
      "started\n",
      "Max Epoch Reached[1/1], Step [60/120], Loss: 126.4711\n",
      "Max Epoch Reached[1/1], Step [120/120], Loss: 40.4303\n",
      "Total no of parameters in Model Theta 2 is:397510 & Test Loss: 39.156870651245114 %\n",
      "<bound method Module.parameters of M1(\n",
      "  (fc1): Linear(in_features=784, out_features=500, bias=True)\n",
      "  (fc2): Linear(in_features=500, out_features=10, bias=True)\n",
      ")>\n",
      "started\n",
      "Max Epoch Reached[1/1], Step [60/120], Loss: 105.6028\n",
      "Max Epoch Reached[1/1], Step [120/120], Loss: 31.7231\n",
      "Total no of parameters in Model Theta 3 is:397510 & Test Loss: 30.662219429016112 %\n",
      "<bound method Module.parameters of M1(\n",
      "  (fc1): Linear(in_features=784, out_features=500, bias=True)\n",
      "  (fc2): Linear(in_features=500, out_features=10, bias=True)\n",
      ")>\n",
      "started\n",
      "Max Epoch Reached[1/1], Step [60/120], Loss: 86.3253\n",
      "Max Epoch Reached[1/1], Step [120/120], Loss: 24.2107\n",
      "Total no of parameters in Model Theta 4 is:397510 & Test Loss: 23.591202783584595 %\n",
      "<bound method Module.parameters of M1(\n",
      "  (fc1): Linear(in_features=784, out_features=500, bias=True)\n",
      "  (fc2): Linear(in_features=500, out_features=10, bias=True)\n",
      ")>\n",
      "started\n",
      "Max Epoch Reached[1/1], Step [60/120], Loss: 67.6584\n",
      "Max Epoch Reached[1/1], Step [120/120], Loss: 18.0698\n",
      "Total no of parameters in Model Theta 5 is:397510 & Test Loss: 17.829109954833985 %\n",
      "<bound method Module.parameters of M1(\n",
      "  (fc1): Linear(in_features=784, out_features=500, bias=True)\n",
      "  (fc2): Linear(in_features=500, out_features=10, bias=True)\n",
      ")>\n",
      "started\n",
      "Max Epoch Reached[1/1], Step [60/120], Loss: 50.6085\n",
      "Max Epoch Reached[1/1], Step [120/120], Loss: 13.1048\n",
      "Total no of parameters in Model Theta 6 is:397510 & Test Loss: 12.96714427471161 %\n",
      "<bound method Module.parameters of M1(\n",
      "  (fc1): Linear(in_features=784, out_features=500, bias=True)\n",
      "  (fc2): Linear(in_features=500, out_features=10, bias=True)\n",
      ")>\n",
      "started\n",
      "Max Epoch Reached[1/1], Step [60/120], Loss: 36.4634\n",
      "Max Epoch Reached[1/1], Step [120/120], Loss: 9.2851\n",
      "Total no of parameters in Model Theta 7 is:397510 & Test Loss: 9.087444865703583 %\n",
      "<bound method Module.parameters of M1(\n",
      "  (fc1): Linear(in_features=784, out_features=500, bias=True)\n",
      "  (fc2): Linear(in_features=500, out_features=10, bias=True)\n",
      ")>\n",
      "started\n",
      "Max Epoch Reached[1/1], Step [60/120], Loss: 24.9369\n",
      "Max Epoch Reached[1/1], Step [120/120], Loss: 6.3571\n",
      "Total no of parameters in Model Theta 8 is:397510 & Test Loss: 6.141480576992035 %\n",
      "<bound method Module.parameters of M1(\n",
      "  (fc1): Linear(in_features=784, out_features=500, bias=True)\n",
      "  (fc2): Linear(in_features=500, out_features=10, bias=True)\n",
      ")>\n",
      "started\n",
      "Max Epoch Reached[1/1], Step [60/120], Loss: 15.7257\n",
      "Max Epoch Reached[1/1], Step [120/120], Loss: 4.0379\n",
      "Total no of parameters in Model Theta 9 is:397510 & Test Loss: 3.9763368755578994 %\n",
      "<bound method Module.parameters of M1(\n",
      "  (fc1): Linear(in_features=784, out_features=500, bias=True)\n",
      "  (fc2): Linear(in_features=500, out_features=10, bias=True)\n",
      ")>\n",
      "started\n",
      "Max Epoch Reached[1/1], Step [60/120], Loss: 9.1446\n",
      "Max Epoch Reached[1/1], Step [120/120], Loss: 2.4563\n",
      "Total no of parameters in Model Theta 10 is:397510& Test Loss: 2.4610642030835153 %\n",
      "<bound method Module.parameters of M1(\n",
      "  (fc1): Linear(in_features=784, out_features=500, bias=True)\n",
      "  (fc2): Linear(in_features=500, out_features=10, bias=True)\n",
      ")>\n",
      "started\n",
      "Max Epoch Reached[1/1], Step [60/120], Loss: 4.6613\n",
      "Max Epoch Reached[1/1], Step [120/120], Loss: 1.3635\n",
      "Total no of parameters in Model Theta 11 is:397510& Test Loss: 1.409813318401575 %\n",
      "<bound method Module.parameters of M1(\n",
      "  (fc1): Linear(in_features=784, out_features=500, bias=True)\n",
      "  (fc2): Linear(in_features=500, out_features=10, bias=True)\n",
      ")>\n",
      "started\n",
      "Max Epoch Reached[1/1], Step [60/120], Loss: 1.9790\n",
      "Max Epoch Reached[1/1], Step [120/120], Loss: 0.6833\n",
      "Total no of parameters in Model Theta 12 is:397510& Test Loss: 0.7442772436887026 %\n",
      "<bound method Module.parameters of M1(\n",
      "  (fc1): Linear(in_features=784, out_features=500, bias=True)\n",
      "  (fc2): Linear(in_features=500, out_features=10, bias=True)\n",
      ")>\n",
      "started\n",
      "Max Epoch Reached[1/1], Step [60/120], Loss: 0.7033\n",
      "Max Epoch Reached[1/1], Step [120/120], Loss: 0.3065\n",
      "Total no of parameters in Model Theta 13 is:397510& Test Loss: 0.3756126613356173 %\n",
      "<bound method Module.parameters of M1(\n",
      "  (fc1): Linear(in_features=784, out_features=500, bias=True)\n",
      "  (fc2): Linear(in_features=500, out_features=10, bias=True)\n",
      ")>\n",
      "started\n",
      "Max Epoch Reached[1/1], Step [60/120], Loss: 0.2365\n",
      "Max Epoch Reached[1/1], Step [120/120], Loss: 0.1251\n",
      "Total no of parameters in Model Theta 14 is:397510& Test Loss: 0.18421951616182924 %\n",
      "<bound method Module.parameters of M1(\n",
      "  (fc1): Linear(in_features=784, out_features=500, bias=True)\n",
      "  (fc2): Linear(in_features=500, out_features=10, bias=True)\n",
      ")>\n",
      "started\n",
      "Max Epoch Reached[1/1], Step [60/120], Loss: 0.0571\n",
      "Max Epoch Reached[1/1], Step [120/120], Loss: 0.0307\n",
      "Total no of parameters in Model Theta 15 is:397510 Test Loss: 0.08889064718969167 %\n",
      "<bound method Module.parameters of M1(\n",
      "  (fc1): Linear(in_features=784, out_features=500, bias=True)\n",
      "  (fc2): Linear(in_features=500, out_features=10, bias=True)\n",
      ")>\n",
      "started\n",
      "Max Epoch Reached[1/1], Step [60/120], Loss: 0.0063\n",
      "Max Epoch Reached[1/1], Step [120/120], Loss: 0.0110\n",
      "Total no of parameters in Model Theta 16 is:397510& Test Loss: 0.07250626008026302 %\n",
      "<bound method Module.parameters of M1(\n",
      "  (fc1): Linear(in_features=784, out_features=500, bias=True)\n",
      "  (fc2): Linear(in_features=500, out_features=10, bias=True)\n",
      ")>\n",
      "started\n",
      "Max Epoch Reached[1/1], Step [60/120], Loss: 0.0126\n",
      "Max Epoch Reached[1/1], Step [120/120], Loss: 0.0176\n",
      "Total no of parameters in Model Theta 17 is:397510& Test Loss: 0.0653545546112582 %\n",
      "<bound method Module.parameters of M1(\n",
      "  (fc1): Linear(in_features=784, out_features=500, bias=True)\n",
      "  (fc2): Linear(in_features=500, out_features=10, bias=True)\n",
      ")>\n",
      "started\n",
      "Max Epoch Reached[1/1], Step [60/120], Loss: 0.0084\n",
      "Max Epoch Reached[1/1], Step [120/120], Loss: 0.0198\n",
      "Total no of parameters in Model Theta 18 is:397510& Test Loss: 0.05943957690615207 %\n",
      "<bound method Module.parameters of M1(\n",
      "  (fc1): Linear(in_features=784, out_features=500, bias=True)\n",
      "  (fc2): Linear(in_features=500, out_features=10, bias=True)\n",
      ")>\n",
      "started\n",
      "Max Epoch Reached[1/1], Step [60/120], Loss: 0.0046\n",
      "Max Epoch Reached[1/1], Step [120/120], Loss: 0.0105\n",
      "Total no of parameters in Model Theta 19 is:397510& Test Loss: 0.058644587034359576 %\n",
      "<bound method Module.parameters of M1(\n",
      "  (fc1): Linear(in_features=784, out_features=500, bias=True)\n",
      "  (fc2): Linear(in_features=500, out_features=10, bias=True)\n",
      ")>\n",
      "started\n",
      "Max Epoch Reached[1/1], Step [60/120], Loss: 0.0014\n",
      "Max Epoch Reached[1/1], Step [120/120], Loss: 0.0044\n",
      "Total no of parameters in Model Theta 20 is:397510& Test Loss: 0.06644266494549811 %\n",
      "<bound method Module.parameters of M1(\n",
      "  (fc1): Linear(in_features=784, out_features=500, bias=True)\n",
      "  (fc2): Linear(in_features=500, out_features=10, bias=True)\n",
      ")>\n",
      "started\n",
      "Max Epoch Reached[1/1], Step [60/120], Loss: 0.0011\n",
      "Max Epoch Reached[1/1], Step [120/120], Loss: 0.0023\n",
      "Total no of parameters in Model Theta 21 is:397510& Test Loss: 0.07991395386634395 %\n",
      "<bound method Module.parameters of M1(\n",
      "  (fc1): Linear(in_features=784, out_features=500, bias=True)\n",
      "  (fc2): Linear(in_features=500, out_features=10, bias=True)\n",
      ")>\n",
      "started\n",
      "Max Epoch Reached[1/1], Step [60/120], Loss: 0.0013\n",
      "Max Epoch Reached[1/1], Step [120/120], Loss: 0.0018\n",
      "Total no of parameters in Model Theta 22 is:397510 Test Loss: 0.09851949654985219 %\n",
      "<bound method Module.parameters of M1(\n",
      "  (fc1): Linear(in_features=784, out_features=500, bias=True)\n",
      "  (fc2): Linear(in_features=500, out_features=10, bias=True)\n",
      ")>\n",
      "started\n",
      "Max Epoch Reached[1/1], Step [60/120], Loss: 0.0009\n",
      "Max Epoch Reached[1/1], Step [120/120], Loss: 0.0016\n",
      "Total no of parameters in Model Theta 23 is:397510& Test Loss: 0.12118456754833459 %\n",
      "<bound method Module.parameters of M1(\n",
      "  (fc1): Linear(in_features=784, out_features=500, bias=True)\n",
      "  (fc2): Linear(in_features=500, out_features=10, bias=True)\n",
      ")>\n",
      "started\n",
      "Max Epoch Reached[1/1], Step [60/120], Loss: 0.0013\n",
      "Max Epoch Reached[1/1], Step [120/120], Loss: 0.0032\n",
      "Total no of parameters in Model Theta 24 is:397510& Test Loss: 0.14892983342288063 %\n",
      "<bound method Module.parameters of M1(\n",
      "  (fc1): Linear(in_features=784, out_features=500, bias=True)\n",
      "  (fc2): Linear(in_features=500, out_features=10, bias=True)\n",
      ")>\n",
      "started\n",
      "Max Epoch Reached[1/1], Step [60/120], Loss: 0.0016\n",
      "Max Epoch Reached[1/1], Step [120/120], Loss: 0.0051\n",
      "Total no of parameters in Model Theta 25 is:397510& Test Loss: 0.18006324293091894 %\n",
      "<bound method Module.parameters of M1(\n",
      "  (fc1): Linear(in_features=784, out_features=500, bias=True)\n",
      "  (fc2): Linear(in_features=500, out_features=10, bias=True)\n",
      ")>\n",
      "started\n",
      "Max Epoch Reached[1/1], Step [60/120], Loss: 0.0025\n",
      "Max Epoch Reached[1/1], Step [120/120], Loss: 0.0091\n",
      "Total no of parameters in Model Theta 26 is:397510& Test Loss: 0.21589486873708666 %\n",
      "<bound method Module.parameters of M1(\n",
      "  (fc1): Linear(in_features=784, out_features=500, bias=True)\n",
      "  (fc2): Linear(in_features=500, out_features=10, bias=True)\n",
      ")>\n",
      "started\n",
      "Max Epoch Reached[1/1], Step [60/120], Loss: 0.0043\n",
      "Max Epoch Reached[1/1], Step [120/120], Loss: 0.0124\n",
      "Total no of parameters in Model Theta 27 is:397510& Test Loss: 0.2565526095218956 %\n",
      "<bound method Module.parameters of M1(\n",
      "  (fc1): Linear(in_features=784, out_features=500, bias=True)\n",
      "  (fc2): Linear(in_features=500, out_features=10, bias=True)\n",
      ")>\n",
      "started\n",
      "Max Epoch Reached[1/1], Step [60/120], Loss: 0.0063\n",
      "Max Epoch Reached[1/1], Step [120/120], Loss: 0.0163\n",
      "Total no of parameters in Model Theta 28 is:397510& Test Loss: 0.30163538600318135 %\n",
      "<bound method Module.parameters of M1(\n",
      "  (fc1): Linear(in_features=784, out_features=500, bias=True)\n",
      "  (fc2): Linear(in_features=500, out_features=10, bias=True)\n",
      ")>\n",
      "started\n",
      "Max Epoch Reached[1/1], Step [60/120], Loss: 0.0085\n",
      "Max Epoch Reached[1/1], Step [120/120], Loss: 0.0216\n",
      "Total no of parameters in Model Theta 29 is:397510& Test Loss: 0.3508500642608851 %\n",
      "<bound method Module.parameters of M1(\n",
      "  (fc1): Linear(in_features=784, out_features=500, bias=True)\n",
      "  (fc2): Linear(in_features=500, out_features=10, bias=True)\n",
      ")>\n",
      "started\n",
      "Max Epoch Reached[1/1], Step [60/120], Loss: 0.0107\n",
      "Max Epoch Reached[1/1], Step [120/120], Loss: 0.0271\n",
      "Total no of parameters in Model Theta 30 is:397510 Test Loss: 0.4067955810576677 %\n",
      "<bound method Module.parameters of M1(\n",
      "  (fc1): Linear(in_features=784, out_features=500, bias=True)\n",
      "  (fc2): Linear(in_features=500, out_features=10, bias=True)\n",
      ")>\n",
      "started\n",
      "Max Epoch Reached[1/1], Step [60/120], Loss: 0.0124\n",
      "Max Epoch Reached[1/1], Step [120/120], Loss: 0.0319\n",
      "Accuracy of the network on the test images: 98.01 & Test Loss: 0.4705410059541464 %\r"
     ]
    }
   ],
   "source": [
    "modelsTrainEpochArr2 = []\n",
    "modelsTrainLossArr2 = []\n",
    "modelsTrainAccArr2 = []\n",
    "modelsTestLossArr2 = []\n",
    "modelsTestAccArr2 = []\n",
    "\n",
    "for i in range (len(thetaArr)):\n",
    "    torch.manual_seed(1)\n",
    "    j=copy.deepcopy(i) \n",
    "    theta = (1-alpha[i])*Lr1_param + alpha[i]*Lr2_param\n",
    "    j = M1()\n",
    "    torch.nn.utils.vector_to_parameters(theta,j.parameters())\n",
    "    loss_func = nn.CrossEntropyLoss()\n",
    "    optimizer = torch.optim.Adam(j.parameters(), lr=1e-3) #,weight_decay = 0.025)\n",
    "\n",
    "    a=[]\n",
    "    for k in j.parameters():\n",
    "        a.append(torch.numel(k))\n",
    "    print(f'Total no of parameters in Model Theta {i} is:{np.sum(a)}')\n",
    "\n",
    "    print(j.parameters)\n",
    "\n",
    "    max_epochs = 1\n",
    "    train_batch_size = 500\n",
    "    status = 60\n",
    "    T2_train_epoch,T2_train_losses,T2_train_acc,T2_trainAvgLossArr,T2_trainAvgAccArr = trainFunc(j,max_epochs,train_batch_size,status) #trainFunc(mBatch1,max_epochs,train_batch_size)\n",
    "    \n",
    "    \n",
    "    modelsTrainLossArr2.append(np.log(T2_trainAvgLossArr)+epsilon)\n",
    "    modelsTrainAccArr2.append(T2_trainAvgAccArr)\n",
    "    \n",
    "    test_batch_size=500\n",
    "    T2_acc,T2_testLoss = testFunction(j,loss_func,test_loader,test_batch_size)\n",
    "    modelsTestAccArr2.append(T2_acc)\n",
    "    modelsTestLossArr2.append(np.log(T2_testLoss)+epsilon)"
   ]
  },
  {
   "cell_type": "code",
   "execution_count": 41,
   "id": "765c0781-97da-4237-b646-f901c40b2f55",
   "metadata": {},
   "outputs": [
    {
     "data": {
      "image/png": "[encoded data removed]",
      "text/plain": [
       "<Figure size 640x480 with 2 Axes>"
      ]
     },
     "metadata": {},
     "output_type": "display_data"
    }
   ],
   "source": [
    "fig,ax=plt.subplots()\n",
    "ax.plot(alpha,(modelsTrainLossArr2),color=\"Blue\",linestyle='dashed', marker=\"o\")\n",
    "ax.plot(alpha,modelsTestLossArr2,color=\"Blue\", marker=\"v\")\n",
    "ax.legend(['Train Loss','Test Loss'],loc=\"center left\")\n",
    "ax.set_xlabel(\"Alpha\",color=\"Green\")\n",
    "ax.set_ylabel(\"CrossEntropy Loss in log scale\",color = \"blue\")\n",
    "ax.set_title(\"learning rate 1e-3 vs. 1e-2\",color = \"green\")\n",
    "\n",
    "\n",
    "ax2=ax.twinx()\n",
    "ax2.plot(alpha,(modelsTrainAccArr2),color=\"red\",linestyle='dashed', marker=\"o\")\n",
    "ax2.plot(alpha,modelsTestAccArr2,color=\"red\", marker=\"v\")\n",
    "ax2.set_xlabel(\"Alpha\",color=\"Green\")\n",
    "ax2.set_ylabel(\"Accuracy\",color = \"red\")\n",
    "ax2.legend(['Train Acc','Test Acc'],loc=\"upper right\")\n",
    "\n",
    "plt.show()"
   ]
  },
  {
   "cell_type": "code",
   "execution_count": null,
   "id": "9ce9e5fc-2fc4-4f98-807f-69649c1714bb",
   "metadata": {},
   "outputs": [],
   "source": []
  },
  {
   "cell_type": "code",
   "execution_count": null,
   "id": "a8c6dd9c-1b38-41f8-b352-dac0ac19d3fb",
   "metadata": {},
   "outputs": [],
   "source": []
  }
 ],
 "metadata": {
  "kernelspec": {
   "display_name": "Python 3 (ipykernel)",
   "language": "python",
   "name": "python3"
  },
  "language_info": {
   "codemirror_mode": {
    "name": "ipython",
    "version": 3
   },
   "file_extension": ".py",
   "mimetype": "text/x-python",
   "name": "python",
   "nbconvert_exporter": "python",
   "pygments_lexer": "ipython3",
   "version": "3.11.5"
  }
 },
 "nbformat": 4,
 "nbformat_minor": 5
}
