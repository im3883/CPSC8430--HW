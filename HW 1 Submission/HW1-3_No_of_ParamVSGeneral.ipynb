{
 "cells": [
  {
   "cell_type": "code",
   "execution_count": 1,
   "id": "71f3e0f3-3589-45db-9895-bb9242b1e8a4",
   "metadata": {
    "tags": []
   },
   "outputs": [],
   "source": [
    "import torch\n",
    "import torch.nn as nn\n",
    "import torch.nn.functional as F\n",
    "import torchvision\n",
    "import torchvision.transforms as transforms\n",
    "import matplotlib.pyplot as plt\n",
    "import numpy as np\n",
    "import copy"
   ]
  },
  {
   "cell_type": "code",
   "execution_count": 2,
   "id": "dfad0513-47ef-4fac-82be-7430570816cd",
   "metadata": {
    "tags": []
   },
   "outputs": [
    {
     "name": "stdout",
     "output_type": "stream",
     "text": [
      "test data size is:  60000 \n",
      "Train Data size is:  10000\n"
     ]
    }
   ],
   "source": [
    "train_data = torchvision.datasets.MNIST(root = \"./data\", #preprocess the MNIST dataset\n",
    "                                       train = True,\n",
    "                                       download = True,\n",
    "                                       transform = transforms.ToTensor()\n",
    "                                      )\n",
    "\n",
    "test_data = torchvision.datasets.MNIST(root = \"./data\",\n",
    "                                      train = False,\n",
    "                                      transform = transforms.ToTensor()\n",
    "                                     )\n",
    "print(\"test data size is: \", len(train_data), \"\\nTrain Data size is: \",len(test_data))"
   ]
  },
  {
   "cell_type": "code",
   "execution_count": 3,
   "id": "bd83d7c6-3747-4cec-85b6-a99a1907833a",
   "metadata": {
    "tags": []
   },
   "outputs": [],
   "source": [
    "train_loader = torch.utils.data.DataLoader(dataset=train_data, \n",
    "                                           batch_size=500, \n",
    "                                           shuffle=True)\n",
    "\n",
    "test_loader = torch.utils.data.DataLoader(dataset=test_data, \n",
    "                                          batch_size=100, \n",
    "                                          shuffle=False)"
   ]
  },
  {
   "cell_type": "code",
   "execution_count": 4,
   "id": "2e35d7f3-dba9-443c-9374-a0fffa7ac7d5",
   "metadata": {
    "tags": []
   },
   "outputs": [],
   "source": [
    "class M1(nn.Module):\n",
    "    def __init__(self):\n",
    "        super(M1, self).__init__()\n",
    "        \n",
    "        self.fc1 = nn.Linear(784, 100)\n",
    "        self.fc2 = nn.Linear(100, 10)\n",
    "\n",
    "    def forward(self, x):\n",
    "        x = x.reshape(x.shape[0], -1)\n",
    "        x = F.relu(self.fc1(x))\n",
    "        x = self.fc2(x)\n",
    "        return x"
   ]
  },
  {
   "cell_type": "code",
   "execution_count": 5,
   "id": "ca710828-4bc3-44b3-9543-8a77d814868e",
   "metadata": {
    "tags": []
   },
   "outputs": [],
   "source": [
    "class M2(nn.Module):\n",
    "    def __init__(self,):\n",
    "        super(M2, self).__init__()\n",
    "        \n",
    "        self.fc1 = nn.Linear(784, 200)\n",
    "        self.fc2 = nn.Linear(200, 10)\n",
    "\n",
    "    def forward(self, x):\n",
    "        x = x.reshape(x.shape[0], -1)\n",
    "        x = F.relu(self.fc1(x))\n",
    "        x = self.fc2(x)\n",
    "        return x"
   ]
  },
  {
   "cell_type": "code",
   "execution_count": 6,
   "id": "9b224135-e583-41e5-944f-5d9081071ac9",
   "metadata": {
    "tags": []
   },
   "outputs": [],
   "source": [
    "class M3(nn.Module):\n",
    "    def __init__(self,):\n",
    "        super(M3, self).__init__()\n",
    "\n",
    "        self.fc1 = nn.Linear(784, 300)\n",
    "        self.fc2 = nn.Linear(300, 10)\n",
    "\n",
    "    def forward(self, x):\n",
    "        x = x.reshape(x.shape[0], -1)\n",
    "        x = F.relu(self.fc1(x))\n",
    "        x = self.fc2(x)\n",
    "        return x"
   ]
  },
  {
   "cell_type": "code",
   "execution_count": 7,
   "id": "d4320a8e-78b5-4391-880e-687b0db8c559",
   "metadata": {
    "tags": []
   },
   "outputs": [],
   "source": [
    "class M4(nn.Module):\n",
    "    def __init__(self,):\n",
    "        super(M4, self).__init__()\n",
    "\n",
    "        self.fc1 = nn.Linear(784, 400)\n",
    "        self.fc2 = nn.Linear(400, 10)\n",
    "\n",
    "    def forward(self, x):\n",
    "        x = x.reshape(x.shape[0], -1)\n",
    "        x = F.relu(self.fc1(x))\n",
    "        x = self.fc2(x)\n",
    "        return x"
   ]
  },
  {
   "cell_type": "code",
   "execution_count": 8,
   "id": "9d2e8a53-d97b-4991-a44c-acd0ad9ee5c8",
   "metadata": {
    "tags": []
   },
   "outputs": [],
   "source": [
    "class M5(nn.Module):\n",
    "    def __init__(self,):\n",
    "        super(M5, self).__init__()\n",
    "        \n",
    "        self.fc1 = nn.Linear(784, 500)\n",
    "        self.fc2 = nn.Linear(500, 10)\n",
    "\n",
    "    def forward(self, x):\n",
    "        x = x.reshape(x.shape[0], -1)\n",
    "        x = F.relu(self.fc1(x))\n",
    "        x = self.fc2(x)\n",
    "        return x"
   ]
  },
  {
   "cell_type": "code",
   "execution_count": 9,
   "id": "85d6c9b6-7d59-4e34-ac70-c567485d19f1",
   "metadata": {
    "tags": []
   },
   "outputs": [],
   "source": [
    "class M6(nn.Module):\n",
    "    def __init__(self,):\n",
    "        super(M6, self).__init__()\n",
    "\n",
    "        self.fc1 = nn.Linear(784, 600)\n",
    "        self.fc2 = nn.Linear(600, 10)\n",
    "\n",
    "    def forward(self, x):\n",
    "        x = x.reshape(x.shape[0], -1)\n",
    "        x = F.relu(self.fc1(x))\n",
    "        x = self.fc2(x)\n",
    "        return x"
   ]
  },
  {
   "cell_type": "code",
   "execution_count": 10,
   "id": "b16976b5-0dbe-4392-ab4d-2622b6213b78",
   "metadata": {
    "tags": []
   },
   "outputs": [],
   "source": [
    "class M7(nn.Module):\n",
    "    def __init__(self,):\n",
    "        super(M7, self).__init__()\n",
    "\n",
    "        self.fc1 = nn.Linear(784, 700)\n",
    "        self.fc2 = nn.Linear(700, 10)\n",
    "\n",
    "    def forward(self, x):\n",
    "        x = x.reshape(x.shape[0], -1)\n",
    "        x = F.relu(self.fc1(x))\n",
    "        x = self.fc2(x)\n",
    "        return x\n",
    "        "
   ]
  },
  {
   "cell_type": "code",
   "execution_count": 11,
   "id": "32ccf3f1-6c32-463f-95b3-9d870ac26420",
   "metadata": {
    "tags": []
   },
   "outputs": [],
   "source": [
    "class M8(nn.Module):\n",
    "    def __init__(self,):\n",
    "        super(M8, self).__init__()\n",
    "        \n",
    "        self.fc1 = nn.Linear(784, 800)\n",
    "        self.fc2 = nn.Linear(800, 10)\n",
    "\n",
    "    def forward(self, x):\n",
    "        x = x.reshape(x.shape[0], -1)\n",
    "        x = F.relu(self.fc1(x))\n",
    "        x = self.fc2(x)\n",
    "        return x"
   ]
  },
  {
   "cell_type": "code",
   "execution_count": 12,
   "id": "f053dd3a-1518-472b-bd1b-d4ae45077500",
   "metadata": {
    "tags": []
   },
   "outputs": [],
   "source": [
    "class M9(nn.Module):\n",
    "    def __init__(self,):\n",
    "        super(M9, self).__init__()\n",
    "\n",
    "        self.fc1 = nn.Linear(784, 900)\n",
    "        self.fc2 = nn.Linear(900, 10)\n",
    "\n",
    "    def forward(self, x):\n",
    "        x = x.reshape(x.shape[0], -1)\n",
    "        x = F.relu(self.fc1(x))\n",
    "        x = self.fc2(x)\n",
    "        return x"
   ]
  },
  {
   "cell_type": "code",
   "execution_count": 13,
   "id": "b83a3c6e-2efe-44df-af33-321e0c7092d6",
   "metadata": {
    "tags": []
   },
   "outputs": [],
   "source": [
    "class M10(nn.Module):\n",
    "    def __init__(self,):\n",
    "        super(M10, self).__init__()\n",
    "\n",
    "        self.fc1 = nn.Linear(784, 1000)\n",
    "        self.fc2 = nn.Linear(1000, 10)\n",
    "\n",
    "    def forward(self, x):\n",
    "        x = x.reshape(x.shape[0], -1)\n",
    "        x = F.relu(self.fc1(x))\n",
    "        x = self.fc2(x)\n",
    "        return x\n",
    "        "
   ]
  },
  {
   "cell_type": "code",
   "execution_count": 14,
   "id": "4ae28e80-9e13-40b6-8ae5-59e0e7b74e5b",
   "metadata": {
    "tags": []
   },
   "outputs": [],
   "source": [
    "# Hyper-parameters \n",
    "input_size = 784 # 28x28\n",
    "max_epochs = 15\n",
    "learning_rate = 0.001\n",
    "kernel_size = 4\n",
    "num_epochs = 10\n",
    "dropout = 0.25"
   ]
  },
  {
   "cell_type": "code",
   "execution_count": 15,
   "id": "3e2836b5-5a52-4913-acba-4b5006888814",
   "metadata": {
    "tags": []
   },
   "outputs": [],
   "source": [
    "def trainFunc(model,num_epochs):\n",
    "    model.train()\n",
    "    n_total_steps = len(train_loader)\n",
    "    train_losses = []\n",
    "    train_epoch = []\n",
    "    train_acc = []\n",
    "    not_converged =True\n",
    "    epoch = 0\n",
    "    trainAvgLoss = []\n",
    "    while not_converged:\n",
    "        epoch += 1\n",
    "        n_correct = 0\n",
    "        n_samples = 0\n",
    "        lossSum = 0\n",
    "        for i, (images, labels) in enumerate(train_loader):  \n",
    "            # Forward pass\n",
    "            prediction = model(images)\n",
    "            loss = loss_func(prediction, labels)\n",
    "            lossSum += loss.detach().numpy()\n",
    "            # Backward and optimize\n",
    "            optimizer.zero_grad()\n",
    "            loss.backward()\n",
    "            optimizer.step()\n",
    "\n",
    "            _, predicted = torch.max(prediction.data, 1)\n",
    "            n_samples += labels.size(0)\n",
    "            n_correct += (predicted == labels).sum().item()\n",
    "            acc = 100.0 * n_correct / n_samples\n",
    "            \n",
    "            if (i+1) % 100 == 0:\n",
    "                print (f'Epoch [{epoch}/{num_epochs}], Step [{i+1}/{n_total_steps}], Loss: {loss.item():.4f}, Accuracy : {acc} %', end = '\\r', flush=True)\n",
    "                train_epoch.append(epoch)\n",
    "                train_losses.append(loss.item())\n",
    "                #print(f'Epoch [{epoch}/{num_epochs}], Accuracy : {acc} %')\n",
    "                train_acc.append(acc)\n",
    "\n",
    "\n",
    "                if epoch == num_epochs:\n",
    "                        print(\"Max Epoch Reached \")\n",
    "                        not_converged = False\n",
    "                elif (epoch > 5) and  (train_losses[-1] < 0.001):\n",
    "                    if abs(train_losses[-3] - train_losses[-2]) < 1.0e-05 and abs(train_losses[-2] - train_losses[-1]) < 1.0e-05:\n",
    "                        print(\"Convergeance reached for loss:\",train_losses[-1])\n",
    "                        not_converged = False\n",
    "                        \n",
    "        trainAvgLoss.append(lossSum/n_total_steps)\n",
    "        \n",
    "        \n",
    "        print(f'For epoch {epoch} AVG_LOSS: {trainAvgLoss[epoch-1]:.4f}',end = '\\r', flush=True)\n",
    "    return train_epoch,train_losses,train_acc,trainAvgLoss"
   ]
  },
  {
   "cell_type": "code",
   "execution_count": 16,
   "id": "6056334a-ec29-46a4-9761-63f56688b6c6",
   "metadata": {
    "tags": []
   },
   "outputs": [],
   "source": [
    "def testFunc(model): \n",
    "    model.eval()\n",
    "    with torch.no_grad():\n",
    "        n_correct = 0\n",
    "        n_samples = 0\n",
    "        testLoss = 0\n",
    "        count = 0\n",
    "        for images, labels in test_loader:\n",
    "            prediction = model(images)\n",
    "            test_Loss = loss_func(prediction, labels)\n",
    "            testLoss += test_Loss\n",
    "            # max returns (value ,index)\n",
    "            _, predicted = torch.max(prediction.data, 1)\n",
    "            n_samples += labels.size(0)\n",
    "            n_correct += (predicted == labels).sum().item()\n",
    "            count += 1\n",
    "\n",
    "        testLoss /= count\n",
    "        netTest_acc1 = 100.0 * n_correct / n_samples\n",
    "\n",
    "        print(f'Accuracy of the network:{model._get_name()} on the test images: {netTest_acc1:.2f} % & loss of the network:{testLoss:.4f}')\n",
    "        return netTest_acc1,testLoss"
   ]
  },
  {
   "cell_type": "code",
   "execution_count": 17,
   "id": "93cabe96-a0be-49da-9aff-6e79bdad0c9a",
   "metadata": {
    "tags": []
   },
   "outputs": [
    {
     "name": "stdout",
     "output_type": "stream",
     "text": [
      "Total no of parameters in ModelM1 :79510\n",
      "Max Epoch Reached p [100/120], Loss: 0.0885, Accuracy : 96.994 %\n",
      "Accuracy of the network:M1 on the test images: 96.57 % & loss of the network:0.1172\n",
      "Total no of parameters in ModelM2 :159010\n",
      "Max Epoch Reached p [100/120], Loss: 0.0672, Accuracy : 98.034 %\n",
      "Accuracy of the network:M2 on the test images: 97.38 % & loss of the network:0.0902\n",
      "Total no of parameters in ModelM3 :238510\n",
      "Max Epoch Reached p [100/120], Loss: 0.0495, Accuracy : 98.534 %\n",
      "Accuracy of the network:M3 on the test images: 97.73 % & loss of the network:0.0782\n",
      "Total no of parameters in ModelM4 :318010\n",
      "Max Epoch Reached p [100/120], Loss: 0.0285, Accuracy : 98.772 %\n",
      "Accuracy of the network:M4 on the test images: 97.65 % & loss of the network:0.0746\n",
      "Total no of parameters in ModelM5 :397510\n",
      "Max Epoch Reached p [100/120], Loss: 0.0415, Accuracy : 98.946 %\n",
      "Accuracy of the network:M5 on the test images: 97.80 % & loss of the network:0.0704\n",
      "Total no of parameters in ModelM6 :477010\n",
      "Max Epoch Reached p [100/120], Loss: 0.0319, Accuracy : 99.084 %\n",
      "Accuracy of the network:M6 on the test images: 97.93 % & loss of the network:0.0683\n",
      "Total no of parameters in ModelM7 :556510\n",
      "Max Epoch Reached p [100/120], Loss: 0.0252, Accuracy : 99.188 %\n",
      "Accuracy of the network:M7 on the test images: 98.09 % & loss of the network:0.0630\n",
      "Total no of parameters in ModelM8 :636010\n",
      "Max Epoch Reached p [100/120], Loss: 0.0230, Accuracy : 99.292 %\n",
      "Accuracy of the network:M8 on the test images: 98.00 % & loss of the network:0.0645\n",
      "Total no of parameters in ModelM9 :715510\n",
      "Max Epoch Reached p [100/120], Loss: 0.0376, Accuracy : 99.388 %\n",
      "Accuracy of the network:M9 on the test images: 98.07 % & loss of the network:0.0623\n",
      "Total no of parameters in ModelM10 :795010\n",
      "Max Epoch Reached p [100/120], Loss: 0.0197, Accuracy : 99.468 %\n",
      "Accuracy of the network:M10 on the test images: 98.13 % & loss of the network:0.0608\n"
     ]
    }
   ],
   "source": [
    "modelArr = [M1,M2,M3,M4,M5,M6,M7,M8,M9,M10]\n",
    "allTrainLossVal = {}\n",
    "allTrainAccVal = {}\n",
    "allTestLossVal = {}\n",
    "allTestAccVal = {}\n",
    "allModelParamNo = {}\n",
    "for i in range (len(modelArr)):\n",
    "        j = copy.deepcopy(i)\n",
    "        torch.manual_seed(1)\n",
    "        j = modelArr[i]()\n",
    "\n",
    "        loss_func = nn.CrossEntropyLoss()\n",
    "        optimizer = torch.optim.Adam(j.parameters(), lr=learning_rate)\n",
    "\n",
    "        a=[]\n",
    "        for k in j.parameters():\n",
    "            a.append(torch.numel(k))\n",
    "        modelTotalPrams = np.sum(a)\n",
    "        print(f'Total no of parameters in Model{j._get_name()} :{modelTotalPrams}')\n",
    "\n",
    "        train_epoch,train_losses,train_acc,trainAvgLoss = trainFunc(j,num_epochs)\n",
    "\n",
    "        testAcc,testLoss = testFunc(j)\n",
    "\n",
    "        allTrainLossVal[j._get_name()] = trainAvgLoss\n",
    "        allTrainAccVal[j._get_name()] = train_acc\n",
    "        allTestLossVal[j._get_name()] = testLoss\n",
    "        allTestAccVal[j._get_name()] = testAcc     \n",
    "        allModelParamNo[j._get_name()] = modelTotalPrams"
   ]
  },
  {
   "cell_type": "code",
   "execution_count": 18,
   "id": "5cc7730c-e903-4562-9dc5-0687671162c0",
   "metadata": {
    "tags": []
   },
   "outputs": [],
   "source": [
    "model_TrainLoss = [np.min(allTrainLossVal['M1']),np.min(allTrainLossVal['M2']),\n",
    "              np.min(allTrainLossVal['M3']),np.min(allTrainLossVal['M4']),\n",
    "              np.min(allTrainLossVal['M5']),np.min(allTrainLossVal['M6']),\n",
    "              np.min(allTrainLossVal['M7']),np.min(allTrainLossVal['M8']),\n",
    "              np.min(allTrainLossVal['M9']),np.min(allTrainLossVal['M10'])     \n",
    "            ]\n",
    "model_Tparams = [allModelParamNo['M1'],allModelParamNo['M2'],allModelParamNo['M3'],\n",
    "                allModelParamNo['M4'],allModelParamNo['M5'],allModelParamNo['M6'],\n",
    "                allModelParamNo['M7'],allModelParamNo['M8'],allModelParamNo['M9'],\n",
    "                allModelParamNo['M10']\n",
    "                ]\n",
    "model_Testloss = [allTestLossVal['M1'],allTestLossVal['M2'],allTestLossVal['M3'],allTestLossVal['M4'],allTestLossVal['M5'],\n",
    "                  allTestLossVal['M6'],allTestLossVal['M7'],allTestLossVal['M8'],allTestLossVal['M9'],allTestLossVal['M10']     \n",
    "                ]"
   ]
  },
  {
   "cell_type": "code",
   "execution_count": 19,
   "id": "6d47246a-5ff2-406c-a46e-df12a8ae742a",
   "metadata": {
    "tags": []
   },
   "outputs": [],
   "source": [
    "model_TrainAcc= [np.max(allTrainAccVal['M1']),np.max(allTrainAccVal['M2']),\n",
    "              np.max(allTrainAccVal['M3']),np.max(allTrainAccVal['M4']),\n",
    "              np.max(allTrainAccVal['M5']),np.max(allTrainAccVal['M6']),\n",
    "              np.max(allTrainAccVal['M7']),np.max(allTrainAccVal['M8']),\n",
    "              np.max(allTrainAccVal['M9']),np.max(allTrainAccVal['M10'])     \n",
    "                ]\n",
    "model_TestAcc = [allTestAccVal['M1'],allTestAccVal['M2'],allTestAccVal['M3'],allTestAccVal['M4'],allTestAccVal['M5'],\n",
    "                  allTestAccVal['M6'],allTestAccVal['M7'],allTestAccVal['M8'],allTestAccVal['M9'],allTestAccVal['M10']     \n",
    "                ]"
   ]
  },
  {
   "cell_type": "code",
   "execution_count": 20,
   "id": "840275b9-f138-4f37-bccd-380b47ddc71e",
   "metadata": {
    "tags": []
   },
   "outputs": [
    {
     "data": {
      "image/png": "[encoded data removed]",
      "text/plain": [
       "<Figure size 1000x500 with 1 Axes>"
      ]
     },
     "metadata": {},
     "output_type": "display_data"
    }
   ],
   "source": [
    "f = plt.figure()\n",
    "f.set_figwidth(10)\n",
    "f.set_figheight(5)\n",
    "plt.scatter(model_Tparams,model_TrainLoss,color=\"blue\")\n",
    "plt.scatter(model_Tparams,model_Testloss,color=\"red\")\n",
    "plt.xticks(model_Tparams, model_Tparams,rotation=70)\n",
    "plt.xlabel(\"Number of parameters\")\n",
    "plt.ylabel(\"Loss\")\n",
    "plt.legend(['train_loss','test_loss'])\n",
    "plt.title('Train/TestLoss Vs Parameters')\n",
    "\n",
    "\n",
    "plt.show()"
   ]
  },
  {
   "cell_type": "code",
   "execution_count": 21,
   "id": "6227196b-e982-45ff-bd90-268b63aabbf5",
   "metadata": {
    "tags": []
   },
   "outputs": [
    {
     "data": {
      "image/png": "[encoded data removed]",
      "text/plain": [
       "<Figure size 1000x500 with 1 Axes>"
      ]
     },
     "metadata": {},
     "output_type": "display_data"
    }
   ],
   "source": [
    "f = plt.figure()\n",
    "f.set_figwidth(10)\n",
    "f.set_figheight(5)\n",
    "plt.scatter(model_Tparams,model_TrainAcc,color=\"blue\")\n",
    "plt.scatter(model_Tparams,model_TestAcc,color=\"red\")\n",
    "plt.xticks(model_Tparams, model_Tparams,rotation=70)\n",
    "plt.xlabel(\"Number of parameters\")\n",
    "plt.ylabel(\"Loss\")\n",
    "plt.legend(['train_Acc','test_Acc'])\n",
    "plt.title('Train/Test Acc Vs Parameters')\n",
    "\n",
    "plt.show()"
   ]
  },
  {
   "cell_type": "code",
   "execution_count": null,
   "id": "5b3cbaf3-96ca-4a23-a280-bafd90ee073d",
   "metadata": {},
   "outputs": [],
   "source": []
  },
  {
   "cell_type": "code",
   "execution_count": null,
   "id": "f0555217-bbd2-4f88-8a23-80a55505a1ae",
   "metadata": {},
   "outputs": [],
   "source": []
  },
  {
   "cell_type": "code",
   "execution_count": null,
   "id": "44034108-a486-4dd6-bab4-c398d558d770",
   "metadata": {},
   "outputs": [],
   "source": []
  }
 ],
 "metadata": {
  "kernelspec": {
   "display_name": "Python 3 (ipykernel)",
   "language": "python",
   "name": "python3"
  },
  "language_info": {
   "codemirror_mode": {
    "name": "ipython",
    "version": 3
   },
   "file_extension": ".py",
   "mimetype": "text/x-python",
   "name": "python",
   "nbconvert_exporter": "python",
   "pygments_lexer": "ipython3",
   "version": "3.11.5"
  }
 },
 "nbformat": 4,
 "nbformat_minor": 5
}
